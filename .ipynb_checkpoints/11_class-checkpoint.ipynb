{
 "cells": [
  {
   "cell_type": "markdown",
   "metadata": {},
   "source": [
    "# Object\n",
    "\n",
    "Python supports many different kinds of data, such as \n",
    "``` \n",
    "1234   3,14159   'Hello'   [1, 5, 7, 11, 13]    {\"CA\": \"California\", \"MA\": \"Massachusetts\"}\n",
    "```\n",
    "Each is an object, and every object has \n",
    "* a **type**, including integer, float, string, list, distionary\n",
    "* an internal **data representation** (primitive or composite)\n",
    "* a set of procedures for interation with the object (such as various built-in methods to manipulate this object)\n",
    "\n",
    "An object is an **instance** of a type\n",
    "* `1234` is an instance of an `int`\n",
    "* \"hello\" is an instance of a `string`\n",
    "\n",
    "Note: Formally, **\"instance\" is synonymous with \"object\"** as they are each a particular value (realization), and these may be called an instance object; \"instance\" emphasizes the distinct identity of the object. The creation of an instance is called instantiation. Therefore, an instance of a class and an object mean the same thing and can often be used interchangeably.\n",
    "\n",
    "#### Generally speaking:\n",
    "* **Everything** in Python is an object (and has a type). \n",
    "* **Objects combine functions with data.** "
   ]
  },
  {
   "cell_type": "code",
   "execution_count": 5,
   "metadata": {},
   "outputs": [],
   "source": [
    "x = 1\n",
    "# help(x)\n",
    "# dir(x)\n",
    "# type(x)"
   ]
  },
  {
   "cell_type": "code",
   "execution_count": null,
   "metadata": {},
   "outputs": [],
   "source": [
    "y = [1,2,3]\n",
    "# help(y)\n",
    "# dir(y) \n",
    "# type(x)"
   ]
  },
  {
   "cell_type": "code",
   "execution_count": null,
   "metadata": {},
   "outputs": [],
   "source": [
    "z = {'a':1}\n",
    "# help(z)\n",
    "# dir(z)\n",
    "# type(x)"
   ]
  },
  {
   "cell_type": "markdown",
   "metadata": {},
   "source": [
    "# Class and Derived Classes"
   ]
  },
  {
   "cell_type": "markdown",
   "metadata": {},
   "source": [
    "### Class\n",
    "\n",
    "* A Class is a kind of data type, just like a string, integer or list. \n",
    "* A Class **groups functions and variables** together, is the \"blueprint\" **for creating new objects**.\n",
    "* Classes and types are themselves objects, and they are of type ***type***. \n",
    "* You can find out the type of any object using the type function ```type()```"
   ]
  },
  {
   "cell_type": "code",
   "execution_count": 8,
   "metadata": {},
   "outputs": [
    {
     "name": "stdout",
     "output_type": "stream",
     "text": [
      "Help on class Patient in module __main__:\n",
      "\n",
      "class Patient(builtins.object)\n",
      " |  Medical centre patient\n",
      " |  \n",
      " |  Data descriptors defined here:\n",
      " |  \n",
      " |  __dict__\n",
      " |      dictionary for instance variables (if defined)\n",
      " |  \n",
      " |  __weakref__\n",
      " |      list of weak references to the object (if defined)\n",
      "\n"
     ]
    }
   ],
   "source": [
    "class Patient():\n",
    "    ''' Medical centre patient'''\n",
    "    pass\n",
    "\n",
    "# dir(Patient)\n",
    "# help(Patient)\n",
    "# type(Patient)"
   ]
  },
  {
   "cell_type": "markdown",
   "metadata": {},
   "source": [
    "* When we create **an object** of that data type, we call it **an instance** of a class.\n",
    "* The variable values which we store inside an object are called ***attributes***, and the functions which are associated with the object are called ***methods***. "
   ]
  },
  {
   "cell_type": "code",
   "execution_count": 10,
   "metadata": {},
   "outputs": [
    {
     "name": "stdout",
     "output_type": "stream",
     "text": [
      "patient\n",
      "got covid\n"
     ]
    }
   ],
   "source": [
    "class Patient:\n",
    "    ''' Medical centre patient'''\n",
    "    \n",
    "    status = 'patient'\n",
    "    \n",
    "    def sick_reason(self):\n",
    "        print(\"got covid\")\n",
    "    \n",
    "steve = Patient()\n",
    "print(steve.status)\n",
    "steve.sick_reason()"
   ]
  },
  {
   "cell_type": "markdown",
   "metadata": {},
   "source": [
    "* All classes have a function called ```__init__()```, which is always executed when the class is being initiated.\n",
    "\n",
    "* Use the ```__init__()``` function to assign values to object attributes, or other operations that are necessary to do when the object is being created:\n",
    "\n",
    "* The ```__init__()``` function is called automatically every time the class is being used to create a new object."
   ]
  },
  {
   "cell_type": "code",
   "execution_count": null,
   "metadata": {},
   "outputs": [],
   "source": [
    "# Create a class named Person, use the __init__() function to assign values for name and age:\n",
    "\n",
    "class Person:\n",
    "    def __init__(self, name, age):\n",
    "        self.name = name\n",
    "        self.age = age\n",
    "\n",
    "p1 = Person(\"John\", 36)"
   ]
  },
  {
   "cell_type": "code",
   "execution_count": null,
   "metadata": {},
   "outputs": [],
   "source": [
    "# Let us create a method in the Person class: \n",
    "\n",
    "## Insert a function that prints a greeting, and execute it on the p1 object:\n",
    "\n",
    "class Person:\n",
    "    def __init__(self, name, age):\n",
    "        self.name = name\n",
    "        self.age = age\n",
    "    def myfunc(self):\n",
    "        print(\"Hello my name is \" + self.name)\n",
    "\n",
    "p1 = Person(\"John\", 36)\n",
    "p1.myfunc()"
   ]
  },
  {
   "cell_type": "markdown",
   "metadata": {},
   "source": [
    "* You may have noticed that both of these method definitions have `self` as the first parameter, and we use this variable inside the method bodies – but we don’t appear to pass this parameter in. This is because whenever we call a method on an object, the object itself is automatically passed in as the first parameter. This gives us a way to **access the object’s properties from inside the object’s methods**.\n",
    "\n",
    "* ```self``` is just a name for the object that you will apply the method on. "
   ]
  },
  {
   "cell_type": "markdown",
   "metadata": {},
   "source": [
    "### Class variable and instance variable\n",
    "* A Python **class variable is shared by all object instances** of a class. Class variables are declared when a class is being constructed. They are not defined inside any methods of a class. \n",
    "\n",
    "* Python **instance variables are owned by an instance** of a class. The value of an instance variable can be different depending on the instance with which the variable is associated. Instance variables are declared inside a class method.\n",
    "\n",
    "This means that the value of each instance variable can be different. This is unlike a class variable where the variable can only have one value that you assign. "
   ]
  },
  {
   "cell_type": "code",
   "execution_count": null,
   "metadata": {},
   "outputs": [],
   "source": [
    "class Patient:\n",
    "    ''' Medical centre patient'''\n",
    "    \n",
    "    status = 'patient' \n",
    "    \n",
    "    def __init__(self, name, age):\n",
    "        self.name = name\n",
    "        self.age = age\n",
    "\n",
    "steve = Patient('Steven', 48)\n",
    "abigail = Patient('Abigail', 32)\n",
    "\n",
    "print(steve.status, steve.name, steve.age)\n",
    "print(abigail.status, abigail.name, abigail.age)"
   ]
  },
  {
   "cell_type": "markdown",
   "metadata": {},
   "source": [
    "### Derived classes"
   ]
  },
  {
   "cell_type": "code",
   "execution_count": null,
   "metadata": {},
   "outputs": [],
   "source": [
    "class Patient(object):\n",
    "    ''' Medical centre patient '''\n",
    "    \n",
    "    status = 'patient'\n",
    "    \n",
    "    def __init__(self, name, age):\n",
    "        self.name = name\n",
    "        self.age = age\n",
    "        \n",
    "    def get_details(self):\n",
    "        print(f'Patient record: {self.name}, {self.age} years.')"
   ]
  },
  {
   "cell_type": "code",
   "execution_count": null,
   "metadata": {},
   "outputs": [],
   "source": [
    "steve = Patient('Steven',48)\n",
    "steve.get_details()\n",
    "\n",
    "abigail = Patient('Abigail',32)\n",
    "abigail.get_details()"
   ]
  },
  {
   "cell_type": "code",
   "execution_count": null,
   "metadata": {},
   "outputs": [],
   "source": [
    "class Infant(Patient):\n",
    "    ''' Patient under 2 years'''\n",
    "    \n",
    "    def __init__(self, name, age):\n",
    "        self.vaccinations = []\n",
    "        super().__init__(name, age)\n",
    "        \n",
    "    def add_vac(self, vaccine):\n",
    "        self.vaccinations.append(vaccine)\n",
    "        \n",
    "    def get_details(self):\n",
    "         print(f' Patient record: {self.name}, {self.age} years.' \\\n",
    "               f'\\n Patient has had {self.vaccinations} vaccines.' \\\n",
    "               f'\\n {self.name} IS AN INFANT, HAS SHE HAD ALL HER CHECKS?')"
   ]
  },
  {
   "cell_type": "code",
   "execution_count": null,
   "metadata": {},
   "outputs": [],
   "source": [
    "adele = Infant('Adele Fittleworth',0)        \n",
    "adele.add_vac('MMR') \n",
    "adele.get_details()"
   ]
  },
  {
   "cell_type": "code",
   "execution_count": null,
   "metadata": {},
   "outputs": [],
   "source": [
    "# Example\n",
    "\n",
    "class AddOne():\n",
    "    # The init or initializer function is where you declare variables.\n",
    "    def __init__(self, count):\n",
    "        # Preface all variables with \"self.\"\n",
    "        self.count = count\n",
    "\n",
    "    # Member functions can be defined below.\n",
    "    # Be sure to also include the self in the arguments.\n",
    "    def increase(self):\n",
    "        self.count += 1\n",
    "\n",
    "class AddTwo(AddOne):\n",
    "    # The init or initializer function is where you declare variables.\n",
    "    def __init__(self, count):\n",
    "        # Create AddOne class inside this class and pass count into AddOne class.\n",
    "        super().__init__(count) \n",
    "        # The super() builtin returns a proxy object (temporary object of the superclass) \n",
    "        # that allows us to access methods of the base class.\n",
    "\n",
    "    def increase_by_two(self):\n",
    "        # You can either call the function `increase` as if it was declared in this class.\n",
    "        self.increase()\n",
    "        # Or specify the derived class directly.\n",
    "        super().increase() "
   ]
  },
  {
   "cell_type": "code",
   "execution_count": null,
   "metadata": {},
   "outputs": [],
   "source": [
    "first_number = AddOne(10)\n",
    "second_number = AddTwo(10)\n",
    "\n",
    "first_number.increase()\n",
    "second_number.increase()\n",
    "second_number.increase_by_two()\n",
    "\n",
    "# Qs\n",
    "# print('First Number: ' + str(first_number.count))\n",
    "# print('Second Number: ' + str(second_number.count))"
   ]
  },
  {
   "cell_type": "code",
   "execution_count": null,
   "metadata": {},
   "outputs": [],
   "source": []
  }
 ],
 "metadata": {
  "kernelspec": {
   "display_name": "Python 3",
   "language": "python",
   "name": "python3"
  },
  "language_info": {
   "codemirror_mode": {
    "name": "ipython",
    "version": 3
   },
   "file_extension": ".py",
   "mimetype": "text/x-python",
   "name": "python",
   "nbconvert_exporter": "python",
   "pygments_lexer": "ipython3",
   "version": "3.8.5"
  }
 },
 "nbformat": 4,
 "nbformat_minor": 4
}
