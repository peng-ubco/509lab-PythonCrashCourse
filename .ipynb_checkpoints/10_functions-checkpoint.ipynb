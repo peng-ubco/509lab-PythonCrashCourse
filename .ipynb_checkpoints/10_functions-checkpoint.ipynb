{
 "cells": [
  {
   "cell_type": "markdown",
   "metadata": {},
   "source": [
    "# User-Defined Function"
   ]
  },
  {
   "cell_type": "markdown",
   "metadata": {},
   "source": [
    "* Function: Perform a specific task \n",
    "* Reusable: Once a function is defined, it can used over and over again. You can simply call the function to accomplish the specific task again, without consistenly rewriting duplicate code. \n",
    "* We have learned many built-in functions. In addition to using pre-defined/built-in functions, you can create your own functions by using the `def` statement."
   ]
  },
  {
   "cell_type": "markdown",
   "metadata": {},
   "source": [
    "Here is an example of defining a function: \n",
    "* Function name: ```my_func```. \n",
    "* Arguments: no arguments \n",
    "* Body of the function: prints \"ABC\" four times\n",
    "\n",
    "It is defined, and then called. \n",
    "\n",
    "Note: The statements in the function are executed only when the function is called."
   ]
  },
  {
   "cell_type": "code",
   "execution_count": 2,
   "metadata": {},
   "outputs": [
    {
     "name": "stdout",
     "output_type": "stream",
     "text": [
      "ABC\n",
      "ABC\n",
      "ABC\n",
      "ABC\n"
     ]
    }
   ],
   "source": [
    "def my_func():\n",
    "    print(\"ABC\")\n",
    "    print(\"ABC\")\n",
    "    print(\"ABC\")\n",
    "    print(\"ABC\")\n",
    "\n",
    "my_func()"
   ]
  },
  {
   "cell_type": "markdown",
   "metadata": {},
   "source": [
    "* You must define functions before they are called, in the same way that you must assign variables before using them."
   ]
  },
  {
   "cell_type": "code",
   "execution_count": 4,
   "metadata": {},
   "outputs": [
    {
     "name": "stdout",
     "output_type": "stream",
     "text": [
      "Hello world!\n"
     ]
    }
   ],
   "source": [
    "def greet():\n",
    "    print(\"Hello world!\")\n",
    "    \n",
    "greet()"
   ]
  },
  {
   "cell_type": "markdown",
   "metadata": {},
   "source": [
    "### Returning from Functions\n",
    "\n",
    "Certain built-in functions, such as `int()` or `str()`, return a value that can be used later.\n",
    "To do this for your defined functions, you can use the `return` statement."
   ]
  },
  {
   "cell_type": "code",
   "execution_count": 7,
   "metadata": {},
   "outputs": [],
   "source": [
    "def rectangle_area (length, width):\n",
    "    area = length * width\n",
    "    return area\n",
    "\n",
    "# def rectangle_area (length, width):\n",
    "#     return length * width"
   ]
  },
  {
   "cell_type": "code",
   "execution_count": 10,
   "metadata": {},
   "outputs": [
    {
     "name": "stdout",
     "output_type": "stream",
     "text": [
      "None\n"
     ]
    }
   ],
   "source": [
    "print(rectangle_area(length=2, width=3))"
   ]
  },
  {
   "cell_type": "code",
   "execution_count": 11,
   "metadata": {},
   "outputs": [
    {
     "name": "stdout",
     "output_type": "stream",
     "text": [
      "None\n",
      "None\n",
      "None\n",
      "None\n"
     ]
    }
   ],
   "source": [
    "# reuse the function by calling the function\n",
    "print(rectangle_area(1, 3))\n",
    "print(rectangle_area(2, 4))\n",
    "print(rectangle_area(3, 3))\n",
    "print(rectangle_area(7, 3))"
   ]
  },
  {
   "cell_type": "code",
   "execution_count": 12,
   "metadata": {},
   "outputs": [
    {
     "data": {
      "text/plain": [
       "15"
      ]
     },
     "execution_count": 12,
     "metadata": {},
     "output_type": "execute_result"
    }
   ],
   "source": [
    "def max(x, y):\n",
    "    if x >= y:\n",
    "        return x\n",
    "    else:\n",
    "        return y\n",
    "        \n",
    "max(15,10)"
   ]
  },
  {
   "cell_type": "markdown",
   "metadata": {},
   "source": [
    "* Once you return a value from a function, it immediately stops being executed. Any code after the return statement will never happen. For example:"
   ]
  },
  {
   "cell_type": "code",
   "execution_count": 13,
   "metadata": {},
   "outputs": [
    {
     "name": "stdout",
     "output_type": "stream",
     "text": [
      "23\n"
     ]
    }
   ],
   "source": [
    "def add_numbers(x, y):\n",
    "    total = x + y\n",
    "    return total\n",
    "    print(\"This won't be printed\")\n",
    "\n",
    "print(add_numbers(4, 19))"
   ]
  },
  {
   "cell_type": "markdown",
   "metadata": {},
   "source": [
    "### Reassign function name\n",
    "Although functions are created differently from normal variables, functions are just like any other kind of values.\n",
    "They can be assigned and reassigned to variables, and later referenced by those names."
   ]
  },
  {
   "cell_type": "code",
   "execution_count": null,
   "metadata": {},
   "outputs": [],
   "source": [
    "def multiply(x, y):\n",
    "    return x * y\n",
    "\n",
    "a = 4\n",
    "b = 12\n",
    "operation = multiply\n",
    "print(operation(a, b))"
   ]
  },
  {
   "cell_type": "markdown",
   "metadata": {},
   "source": [
    "### Scope \n",
    "\n",
    "* Scope is the area of the program where an item (be it variable, constant, function, etc.) that has an identifier name is recognized, such that the variable/constant/function can be used or accessed. Beyong the area, the variable/constant/function cannot be accessed.\n",
    "\n",
    "#### Local variable: names assigned within a function\n",
    "* Local variables will be the functional scope. The local variable created within a function can only be accessed within the code block where it is created. \n",
    "\n",
    "#### Global variable: names assigned at the top level of a module file\n",
    "* Global variable can be accessed at everypart of the program"
   ]
  },
  {
   "cell_type": "code",
   "execution_count": null,
   "metadata": {},
   "outputs": [],
   "source": [
    "def random_function():\n",
    "    name = 'Bill' \n",
    "print(name)"
   ]
  },
  {
   "cell_type": "code",
   "execution_count": null,
   "metadata": {},
   "outputs": [],
   "source": [
    "number = 2 \n",
    "def random_function():\n",
    "    name = 'Bill' \n",
    "print(number)"
   ]
  },
  {
   "cell_type": "code",
   "execution_count": null,
   "metadata": {},
   "outputs": [],
   "source": [
    "number = 2 \n",
    "def random_function():\n",
    "    name = 'Bill' \n",
    "    print(number)\n",
    "\n",
    "random_function()"
   ]
  },
  {
   "cell_type": "markdown",
   "metadata": {},
   "source": [
    "## Doc Strings\n",
    "\n",
    "When you work with a lot of functions, you may have hard time to figure out what the purpose of the functions. That why the doc strings are used. \n",
    "\n",
    "Doc string is a type of comment to explain what the function is used for and how it should be used.\n",
    "\n",
    "#### String literal that documents a segments of code"
   ]
  },
  {
   "cell_type": "code",
   "execution_count": null,
   "metadata": {},
   "outputs": [],
   "source": [
    "# Use triple double quotes to write a doc string\n",
    "# The content of a doc string can be anything you feel it's best to describe your function\n",
    "\n",
    "def rectangle_area (length, width):\n",
    "    \"\"\" calculates the area of a rectangle \"\"\"\n",
    "    return length * width"
   ]
  },
  {
   "cell_type": "code",
   "execution_count": null,
   "metadata": {},
   "outputs": [],
   "source": [
    "def rectangle_area (length, width):\n",
    "    \"\"\" \n",
    "    \n",
    "    INPUT:\n",
    "    \n",
    "    This function takes in two parameters length and width\n",
    "    \n",
    "    OUTPUT:\n",
    "    \n",
    "    This function calculates the area based on the length and width provided by the user, where area = length x width\n",
    "    \n",
    "    \"\"\"\n",
    "    return length * width"
   ]
  },
  {
   "cell_type": "markdown",
   "metadata": {},
   "source": [
    "# Higher Order Function\n",
    "* A function that takes another function as an argument"
   ]
  },
  {
   "cell_type": "code",
   "execution_count": null,
   "metadata": {},
   "outputs": [],
   "source": [
    "numbers = list(range(1, 6))\n",
    "print(numbers)"
   ]
  },
  {
   "cell_type": "code",
   "execution_count": null,
   "metadata": {},
   "outputs": [],
   "source": [
    "# write the code filter out the odd numbers in the list\n",
    "\n",
    "numbers_update= []\n",
    "for index in range(len(numbers)):\n",
    "    if numbers[index] % 2 == 0:\n",
    "        numbers_update.append(numbers[index])\n",
    "        \n",
    "print('Updated numbers list: ', numbers_update)"
   ]
  },
  {
   "cell_type": "code",
   "execution_count": null,
   "metadata": {},
   "outputs": [],
   "source": [
    "# You can use the filter function. \n",
    "def even_or_odd(number):\n",
    "    return number % 2 == 0\n",
    "\n",
    "updated_numbers = list(filter(even_or_odd, numbers)) \n",
    "# The filter() function extracts elements from an iterable (list, tuple etc.) for which a function returns True.\n",
    "# The first argument of the filter function is a function, \n",
    "# the second argument is the argument will be passed into the higher order function\n",
    "\n",
    "print(updated_numbers)"
   ]
  },
  {
   "cell_type": "markdown",
   "metadata": {},
   "source": [
    "* Problem for the above code: function should be resuable, but this small function `even_or_odd` seems to be not useful in the future. So, we do not need to define a formal function here. \n",
    "* We have a better way to creat small and quick functions using the `lambda` operator\n",
    "\n",
    "#### lambda operator provides a method to create small anonymous function (function without a name). \n",
    "#### Syntax of a lamnda operator: `lambda <augument> : <expression that be executed and returned>`"
   ]
  },
  {
   "cell_type": "code",
   "execution_count": null,
   "metadata": {},
   "outputs": [],
   "source": [
    "updated_numbers = list(filter(lambda number: number % 2 == 0, numbers))\n",
    "\n",
    "print(updated_numbers)"
   ]
  },
  {
   "cell_type": "markdown",
   "metadata": {},
   "source": [
    "* There are many higher order functions in Python such as the ```filter```, ```map``` and ```reduce```. We are not going to talk all of those. \n",
    "* But here, just keep in mind that the lambda operator is a good way to create short and simple function."
   ]
  },
  {
   "cell_type": "code",
   "execution_count": null,
   "metadata": {},
   "outputs": [],
   "source": []
  }
 ],
 "metadata": {
  "kernelspec": {
   "display_name": "Python 3",
   "language": "python",
   "name": "python3"
  },
  "language_info": {
   "codemirror_mode": {
    "name": "ipython",
    "version": 3
   },
   "file_extension": ".py",
   "mimetype": "text/x-python",
   "name": "python",
   "nbconvert_exporter": "python",
   "pygments_lexer": "ipython3",
   "version": "3.8.5"
  }
 },
 "nbformat": 4,
 "nbformat_minor": 4
}
