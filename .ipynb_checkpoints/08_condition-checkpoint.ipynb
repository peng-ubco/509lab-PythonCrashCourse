{
 "cells": [
  {
   "cell_type": "markdown",
   "metadata": {},
   "source": [
    "# Condition"
   ]
  },
  {
   "cell_type": "markdown",
   "metadata": {},
   "source": [
    "## if else"
   ]
  },
  {
   "cell_type": "code",
   "execution_count": null,
   "metadata": {},
   "outputs": [],
   "source": [
    "grocery_items ={'bananas':1.79, 'apples':3.49, 'pears': 2.39}"
   ]
  },
  {
   "cell_type": "code",
   "execution_count": null,
   "metadata": {},
   "outputs": [],
   "source": [
    "item = 'brussels sprout'\n",
    "if item in grocery_items:\n",
    "    print('found the:', item) # note the identation for this line indicates what block of this code belongs to"
   ]
  },
  {
   "cell_type": "markdown",
   "metadata": {},
   "source": [
    "* Why has nothing been output here?\n",
    "* The condition is false, so Python skips the following block of code"
   ]
  },
  {
   "cell_type": "code",
   "execution_count": null,
   "metadata": {},
   "outputs": [],
   "source": [
    "item = 'brussels sprout'\n",
    "\n",
    "if item in grocery_items:\n",
    "    print('found the:', item)\n",
    "else:\n",
    "    print('could not find the item: ', item)\n",
    "    grocery_items.update({item: 2.99})\n",
    "    print('just added the item, here is the updated grocery list')"
   ]
  },
  {
   "cell_type": "code",
   "execution_count": null,
   "metadata": {},
   "outputs": [],
   "source": [
    "item = 'brussels sprout'\n",
    "if item in grocery_items:\n",
    "    print('found the:', item)\n",
    "else:\n",
    "    print('could not find the item: ', item)\n",
    "    grocery_items.update({item: 2.99})\n",
    "    print('just added the item, here is the updated grocery list')"
   ]
  },
  {
   "cell_type": "markdown",
   "metadata": {},
   "source": [
    "## elif"
   ]
  },
  {
   "cell_type": "code",
   "execution_count": null,
   "metadata": {},
   "outputs": [],
   "source": [
    "grocery_items ={'bananas':1.79, 'apples':3.49, 'pears': 2.39}\n",
    "item, price = 'cabbage', 2.99\n",
    "\n",
    "if item in grocery_items:\n",
    "    print('found the:', item)\n",
    "elif price > 2.99:\n",
    "    print('too expensive for inventory! ')\n",
    "else:\n",
    "    print('could not find the item: ', item)\n",
    "    grocery_items.update({item: price})\n",
    "    print('just added the item, here is the updated grocery list:', grocery_items)"
   ]
  },
  {
   "cell_type": "code",
   "execution_count": null,
   "metadata": {},
   "outputs": [],
   "source": [
    "grocery_items ={'bananas':1.79, 'apples':3.49, 'pears': 2.39}\n",
    "item, price = 'cabbage', 3.99\n",
    "if item in grocery_items:\n",
    "    print('found the:', item)\n",
    "elif price > 2.99:\n",
    "    print('too expensive for inventory! ')\n",
    "else:\n",
    "    print('could not find the item: ', item)\n",
    "    grocery_items.update({item: price})\n",
    "    print('just added the item, here is the updated grocery list')"
   ]
  },
  {
   "cell_type": "markdown",
   "metadata": {},
   "source": [
    "### Common comparison operators include `==`  `!=`  `>`  `<`  `>=`  `<=`"
   ]
  },
  {
   "cell_type": "code",
   "execution_count": null,
   "metadata": {},
   "outputs": [],
   "source": [
    "i = 3\n",
    "if i==1:\n",
    "    print('first')\n",
    "elif i==4:\n",
    "    print('second')\n",
    "elif i==3:\n",
    "    print('middle')\n",
    "else:\n",
    "    print('last')"
   ]
  },
  {
   "cell_type": "markdown",
   "metadata": {},
   "source": [
    "* Qs：What if the ```elif``` ```else``` conditions are also true?"
   ]
  },
  {
   "cell_type": "code",
   "execution_count": null,
   "metadata": {},
   "outputs": [],
   "source": [
    "i = 1\n",
    "if i==1:\n",
    "    print('first')\n",
    "elif 4==4:\n",
    "    print('second')\n",
    "elif 3==3:\n",
    "    print('middle')\n",
    "else:\n",
    "    print('last')"
   ]
  },
  {
   "cell_type": "markdown",
   "metadata": {},
   "source": [
    "### Complex comparisons"
   ]
  },
  {
   "cell_type": "code",
   "execution_count": null,
   "metadata": {},
   "outputs": [],
   "source": [
    "item_price = 2.49\n",
    "\n",
    "if 2.0 < item_price < 5.0:\n",
    "    print('item price is reasonable')"
   ]
  },
  {
   "cell_type": "markdown",
   "metadata": {},
   "source": [
    "* Use `and` to define the condition"
   ]
  },
  {
   "cell_type": "code",
   "execution_count": null,
   "metadata": {},
   "outputs": [],
   "source": [
    "item_price = 6.49\n",
    "\n",
    "if item_price > 2.0 and item_price < 5.0:\n",
    "    print('item price is reasonable')"
   ]
  },
  {
   "cell_type": "markdown",
   "metadata": {},
   "source": [
    "* Use `or` to define the condition"
   ]
  },
  {
   "cell_type": "code",
   "execution_count": null,
   "metadata": {},
   "outputs": [],
   "source": [
    "item_price = 6.49\n",
    "\n",
    "if item_price >= 2.0 or item_price >= 5.0:\n",
    "    print('item price is NOT reasonable')"
   ]
  },
  {
   "cell_type": "code",
   "execution_count": null,
   "metadata": {},
   "outputs": [],
   "source": []
  }
 ],
 "metadata": {
  "kernelspec": {
   "display_name": "Python 3",
   "language": "python",
   "name": "python3"
  },
  "language_info": {
   "codemirror_mode": {
    "name": "ipython",
    "version": 3
   },
   "file_extension": ".py",
   "mimetype": "text/x-python",
   "name": "python",
   "nbconvert_exporter": "python",
   "pygments_lexer": "ipython3",
   "version": "3.8.5"
  }
 },
 "nbformat": 4,
 "nbformat_minor": 4
}
