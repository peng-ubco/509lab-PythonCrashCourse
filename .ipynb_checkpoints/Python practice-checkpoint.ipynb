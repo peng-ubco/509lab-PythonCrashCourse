{
 "cells": [
  {
   "cell_type": "markdown",
   "metadata": {},
   "source": [
    "### Python Practices\n",
    "\n",
    "The following questions will help you practice and self-check your Python skills. \n"
   ]
  },
  {
   "cell_type": "markdown",
   "metadata": {},
   "source": [
    "## Variables practice\n",
    "#### Q1 \n",
    "Write code that asks the user to input the radius of a circle and then print the area"
   ]
  },
  {
   "cell_type": "code",
   "execution_count": null,
   "metadata": {},
   "outputs": [],
   "source": []
  },
  {
   "cell_type": "markdown",
   "metadata": {},
   "source": [
    "#### Q2 \n",
    "Bob, Ann, Jane and Ashwin want to order pizza - they each will eat 4 slices of pizza. The local pizza shop sells pizzas sliced into 6 pieces. What is the minimum number of pizzas needed (Hint: You can use floor division to realize a ceiling division)"
   ]
  },
  {
   "cell_type": "code",
   "execution_count": null,
   "metadata": {},
   "outputs": [],
   "source": []
  },
  {
   "cell_type": "markdown",
   "metadata": {},
   "source": [
    "## Conditions practice"
   ]
  },
  {
   "cell_type": "markdown",
   "metadata": {},
   "source": [
    "#### Q3\n",
    "\n",
    "Write code that asks the user to input a number between 2 and 4 inclusive. The code will take the **integer value** and print out the string value. For example if the user inputs `2` the code will print `two`. Reject any input that is not a number in that range by print `Out of range`"
   ]
  },
  {
   "cell_type": "code",
   "execution_count": null,
   "metadata": {},
   "outputs": [],
   "source": []
  },
  {
   "cell_type": "markdown",
   "metadata": {},
   "source": [
    "#### Q4\n",
    "\n",
    "Create a variable named `secret_number` containing an integer between 1 and 10 inclusive. Ask the user to input his/her guess of the number. If they guess too high or too low, tell them they have not won. Tell them they win if they guess the correct number."
   ]
  },
  {
   "cell_type": "code",
   "execution_count": null,
   "metadata": {},
   "outputs": [],
   "source": []
  },
  {
   "cell_type": "markdown",
   "metadata": {},
   "source": [
    "#### Q5\n",
    "Ask the user for two integers between 1 and 20. If they are both greater than 15 return their product. If only one is greater than 15 print their sum, if neither are greater than 15 print zero\n"
   ]
  },
  {
   "cell_type": "code",
   "execution_count": null,
   "metadata": {},
   "outputs": [],
   "source": []
  },
  {
   "cell_type": "markdown",
   "metadata": {},
   "source": [
    "# Loop practice"
   ]
  },
  {
   "cell_type": "markdown",
   "metadata": {},
   "source": [
    "#### Q6\n",
    "Ask the user to input a sequence of numbers. Then calculate the mean and print the result"
   ]
  },
  {
   "cell_type": "code",
   "execution_count": null,
   "metadata": {},
   "outputs": [],
   "source": []
  },
  {
   "cell_type": "markdown",
   "metadata": {},
   "source": [
    "#### Q7 \n",
    "Write some code that will determine all odd and even numbers between 1 and 100. Put the odds in a list named `odd` and the evens in a list named `even`."
   ]
  },
  {
   "cell_type": "code",
   "execution_count": null,
   "metadata": {},
   "outputs": [],
   "source": []
  },
  {
   "cell_type": "markdown",
   "metadata": {},
   "source": [
    "#### Q8\n",
    "Write code that will calculate 15 factorial. (factorial is product of positive ints up to a given number. e.g 5 factorial is 5x4x3x2x1)"
   ]
  },
  {
   "cell_type": "code",
   "execution_count": null,
   "metadata": {},
   "outputs": [],
   "source": []
  },
  {
   "cell_type": "markdown",
   "metadata": {},
   "source": [
    "## Dictionary questions"
   ]
  },
  {
   "cell_type": "markdown",
   "metadata": {},
   "source": [
    "#### Q9\n",
    "\n",
    "Can you remember how to check if a key exists in a dictionary? Using the capitals dictionary below write some code to ask the user to input a country, then check to see if that country is in the dictionary and if it is print the capital. If not tell the user it's not there.\n",
    "\n",
    "```python\n",
    "capitals = {'France':'Paris','Spain':'Madrid','United Kingdom':'London',\n",
    "           'India':'New Delhi','United States':'Washington DC','Italy':'Rome',\n",
    "           'Denmark':'Copenhagen','Germany':'Berlin','Greece':'Athens',\n",
    "           'Bulgaria':'Sofia','Ireland':'Dublin','Mexico':'Mexico City'\n",
    "           }\n",
    "```"
   ]
  },
  {
   "cell_type": "code",
   "execution_count": null,
   "metadata": {},
   "outputs": [],
   "source": []
  },
  {
   "cell_type": "markdown",
   "metadata": {},
   "source": [
    "#### Q10\n",
    "Can you remember how to get the values from the dictionary? Write some code that creates a list named `list_cities` that includes the capital cities in the above `capitals` dictionary. Ask the user to input a capital city. If the city is not in the list, add that city to the list of cities. Then print the `list_cities` to the screen."
   ]
  },
  {
   "cell_type": "code",
   "execution_count": null,
   "metadata": {},
   "outputs": [],
   "source": []
  },
  {
   "cell_type": "markdown",
   "metadata": {},
   "source": [
    "#### Q11\n",
    "Create a dictionary where the keys are the letters from A-Z, the values should\n",
    "be random numbers created from the random module. Draw a bar graph where the keys are on the x-axis and the values are on the y-axis.\n",
    "\n",
    "Note: Read the documentation of random module if you are not familiar with random module: https://docs.python.org/3/library/random.html#random.random"
   ]
  },
  {
   "cell_type": "code",
   "execution_count": null,
   "metadata": {},
   "outputs": [],
   "source": []
  },
  {
   "cell_type": "markdown",
   "metadata": {},
   "source": [
    "## Function practice"
   ]
  },
  {
   "cell_type": "markdown",
   "metadata": {},
   "source": [
    "#### Q12\n",
    "\n",
    "Create a function that will calculate the sum of two numbers. Name the function `sum_two`."
   ]
  },
  {
   "cell_type": "code",
   "execution_count": null,
   "metadata": {},
   "outputs": [],
   "source": []
  },
  {
   "cell_type": "markdown",
   "metadata": {},
   "source": [
    "#### Q13\n",
    "\n",
    "Write a function to calculate $a^b$. If b is not given, its default value should be 2. Name the function `power`."
   ]
  },
  {
   "cell_type": "code",
   "execution_count": null,
   "metadata": {},
   "outputs": [],
   "source": []
  },
  {
   "cell_type": "markdown",
   "metadata": {},
   "source": [
    "## Class practice"
   ]
  },
  {
   "cell_type": "markdown",
   "metadata": {},
   "source": [
    "#### Q14\n",
    "Create a circle class that will take the value of a radius and return the area of the circle"
   ]
  },
  {
   "cell_type": "code",
   "execution_count": null,
   "metadata": {},
   "outputs": [],
   "source": []
  },
  {
   "cell_type": "markdown",
   "metadata": {},
   "source": [
    "#### Q15\n",
    "Create a class to represent a bank account. It will need to have a balance,\n",
    "a method of withdrawing money, depositing money and displaying the balance to\n",
    "the screen. Create an instance of the bank account and check that the methods\n",
    "work as expected."
   ]
  },
  {
   "cell_type": "code",
   "execution_count": null,
   "metadata": {},
   "outputs": [],
   "source": []
  }
 ],
 "metadata": {
  "kernelspec": {
   "display_name": "Python 3 (ipykernel)",
   "language": "python",
   "name": "python3"
  },
  "language_info": {
   "codemirror_mode": {
    "name": "ipython",
    "version": 3
   },
   "file_extension": ".py",
   "mimetype": "text/x-python",
   "name": "python",
   "nbconvert_exporter": "python",
   "pygments_lexer": "ipython3",
   "version": "3.9.12"
  }
 },
 "nbformat": 4,
 "nbformat_minor": 4
}
