{
 "cells": [
  {
   "cell_type": "markdown",
   "metadata": {},
   "source": [
    "# Loops"
   ]
  },
  {
   "cell_type": "markdown",
   "metadata": {},
   "source": [
    "## for loop\n",
    "For loop can loop/iterate through any *iterable*\n",
    "\n",
    "Iterable: an object can be iterated through, such as a **list, string, tuples, or dictionary**"
   ]
  },
  {
   "cell_type": "code",
   "execution_count": 1,
   "metadata": {},
   "outputs": [
    {
     "name": "stdout",
     "output_type": "stream",
     "text": [
      "January\n",
      "February\n",
      "March\n"
     ]
    }
   ],
   "source": [
    "months = ['January', 'February', 'March']\n",
    "\n",
    "for month in months:\n",
    "    print(month) \n",
    "# each element in months will be iterated through, and is represented by the iteration variable \"month\""
   ]
  },
  {
   "cell_type": "code",
   "execution_count": 3,
   "metadata": {},
   "outputs": [
    {
     "name": "stdout",
     "output_type": "stream",
     "text": [
      "0\n",
      "1\n",
      "2\n",
      "3\n",
      "4\n",
      "5\n",
      "6\n",
      "7\n",
      "8\n",
      "9\n"
     ]
    }
   ],
   "source": [
    "numbers = list(range(0, 10))\n",
    "\n",
    "for number in numbers:\n",
    "    print(number)"
   ]
  },
  {
   "cell_type": "code",
   "execution_count": 2,
   "metadata": {},
   "outputs": [
    {
     "name": "stdout",
     "output_type": "stream",
     "text": [
      "0\n",
      "Hello\n",
      "1\n",
      "Hello\n",
      "2\n",
      "Hello\n",
      "3\n",
      "Hello\n",
      "4\n",
      "Hello\n",
      "5\n",
      "Hello\n",
      "6\n",
      "Hello\n",
      "7\n",
      "Hello\n",
      "8\n",
      "Hello\n",
      "9\n",
      "Hello\n"
     ]
    }
   ],
   "source": [
    "for number in range(0, 10):\n",
    "    print(number)\n",
    "    print('Hello')"
   ]
  },
  {
   "cell_type": "code",
   "execution_count": 4,
   "metadata": {},
   "outputs": [
    {
     "name": "stdout",
     "output_type": "stream",
     "text": [
      "0\n",
      "1\n",
      "2\n",
      "['Hillary', 'Diana', 'Brian']\n"
     ]
    }
   ],
   "source": [
    "names = ['hillary', 'diana', 'brian']\n",
    "for index in range(len(names)):\n",
    "    print(index)\n",
    "    names[index] = names[index].title()\n",
    "print(names)"
   ]
  },
  {
   "cell_type": "code",
   "execution_count": 1,
   "metadata": {},
   "outputs": [
    {
     "name": "stdout",
     "output_type": "stream",
     "text": [
      "0 h\n",
      "1 i\n",
      "2 l\n",
      "3 l\n",
      "4 a\n",
      "5 r\n",
      "6 y\n"
     ]
    }
   ],
   "source": [
    "name = 'hillary'\n",
    "for index in range(len(name)):\n",
    "    print(index, name[index])"
   ]
  },
  {
   "cell_type": "code",
   "execution_count": 6,
   "metadata": {},
   "outputs": [
    {
     "name": "stdout",
     "output_type": "stream",
     "text": [
      "Titanic\n",
      "Finding Nemo\n"
     ]
    }
   ],
   "source": [
    "movies = {'Titanic': 1997, 'Finding Nemo': 2003}\n",
    "# You can iterate through just the keys or the key value pairs\n",
    "\n",
    "for key in movies:\n",
    "    print(key)"
   ]
  },
  {
   "cell_type": "code",
   "execution_count": 7,
   "metadata": {},
   "outputs": [
    {
     "name": "stdout",
     "output_type": "stream",
     "text": [
      "Titanic 1997\n",
      "Finding Nemo 2003\n"
     ]
    }
   ],
   "source": [
    "for (key, value) in movies.items():\n",
    "    print(key, value)"
   ]
  },
  {
   "cell_type": "code",
   "execution_count": 8,
   "metadata": {},
   "outputs": [
    {
     "name": "stdout",
     "output_type": "stream",
     "text": [
      "The movie Titanic was made in 1997\n",
      "The movie Finding Nemo was made in 2003\n"
     ]
    }
   ],
   "source": [
    "for (key, value) in movies.items():\n",
    "    print(f'The movie {key} was made in {value}')"
   ]
  },
  {
   "cell_type": "markdown",
   "metadata": {},
   "source": [
    "# While loop\n",
    "* The for loop iterates through iterable, the while loop iterates until the condition is false\n",
    "* The number of iterations of for loop is predefined, but the while loop can have infinite number of iterations\n",
    "* The number of iterations of while loop depends on the condition and the logic affecting condition"
   ]
  },
  {
   "cell_type": "code",
   "execution_count": 8,
   "metadata": {},
   "outputs": [],
   "source": [
    "random_number = 20\n",
    "\n",
    "# # If we run the following code, this code will be executed forever\n",
    "# while random_number  < 30:\n",
    "#     print(random_number) "
   ]
  },
  {
   "cell_type": "code",
   "execution_count": 9,
   "metadata": {},
   "outputs": [
    {
     "name": "stdout",
     "output_type": "stream",
     "text": [
      "20\n",
      "21\n",
      "22\n",
      "23\n",
      "24\n",
      "25\n",
      "26\n",
      "27\n",
      "28\n",
      "29\n"
     ]
    }
   ],
   "source": [
    "while random_number  < 30:\n",
    "    print(random_number) \n",
    "    random_number += 1"
   ]
  },
  {
   "cell_type": "markdown",
   "metadata": {},
   "source": [
    "# Break and Continue\n",
    "* Continue means jump out the current loop, but the remaining loop process continues\n",
    "* Break means jump out the whole loop process (i.e., loop stops)"
   ]
  },
  {
   "cell_type": "code",
   "execution_count": 10,
   "metadata": {},
   "outputs": [],
   "source": [
    "numbers = list(range(0, 10))"
   ]
  },
  {
   "cell_type": "code",
   "execution_count": 11,
   "metadata": {},
   "outputs": [
    {
     "name": "stdout",
     "output_type": "stream",
     "text": [
      "0\n",
      "2\n",
      "4\n",
      "6\n",
      "8\n"
     ]
    }
   ],
   "source": [
    "for number in numbers:\n",
    "    if number % 2 != 0:\n",
    "        continue \n",
    "    print(number)"
   ]
  },
  {
   "cell_type": "code",
   "execution_count": 12,
   "metadata": {},
   "outputs": [
    {
     "name": "stdout",
     "output_type": "stream",
     "text": [
      "0\n"
     ]
    }
   ],
   "source": [
    "for number in numbers:\n",
    "    if number % 2 != 0:\n",
    "         break\n",
    "    print(number)"
   ]
  },
  {
   "cell_type": "code",
   "execution_count": null,
   "metadata": {},
   "outputs": [],
   "source": []
  }
 ],
 "metadata": {
  "kernelspec": {
   "display_name": "Python 3 (ipykernel)",
   "language": "python",
   "name": "python3"
  },
  "language_info": {
   "codemirror_mode": {
    "name": "ipython",
    "version": 3
   },
   "file_extension": ".py",
   "mimetype": "text/x-python",
   "name": "python",
   "nbconvert_exporter": "python",
   "pygments_lexer": "ipython3",
   "version": "3.9.12"
  }
 },
 "nbformat": 4,
 "nbformat_minor": 4
}
